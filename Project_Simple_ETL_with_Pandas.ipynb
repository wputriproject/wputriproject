{
  "nbformat": 4,
  "nbformat_minor": 0,
  "metadata": {
    "colab": {
      "name": "Project Simple ETL with Pandas.ipynb",
      "provenance": [],
      "collapsed_sections": [],
      "toc_visible": true,
      "authorship_tag": "ABX9TyP3UTpMm9+trfBTV8UeFC00",
      "include_colab_link": true
    },
    "kernelspec": {
      "name": "python3",
      "display_name": "Python 3"
    },
    "language_info": {
      "name": "python"
    }
  },
  "cells": [
    {
      "cell_type": "markdown",
      "metadata": {
        "id": "view-in-github",
        "colab_type": "text"
      },
      "source": [
        "<a href=\"https://colab.research.google.com/github/wputriproject/wputriproject/blob/main/Project_Simple_ETL_with_Pandas.ipynb\" target=\"_parent\"><img src=\"https://colab.research.google.com/assets/colab-badge.svg\" alt=\"Open In Colab\"/></a>"
      ]
    },
    {
      "cell_type": "markdown",
      "source": [
        "Extract, Transform dan Load (ETL) merupakan kumpulan proses untuk \"memindahkan\" data dari satu tempat ke tempat lain.\n",
        "Tempat yang dimaksud adalah dari sumber data (bisa berupa database aplikasi, file, logs, database dari 3rd party, dan lainnya) ke data warehouse (baca; https://en.wikipedia.org/wiki/Data_warehouse)."
      ],
      "metadata": {
        "id": "Z1PtF6R6eOrN"
      }
    },
    {
      "cell_type": "markdown",
      "source": [
        "Project yang Akan Dikerjakan:\n",
        "Dataset ini terdiri dari 5000 baris data (5000 pendaftar) dengan format CSV (Comma-separated values) dan memiliki beberapa kolom diantaranya:\n",
        "1.\tparticipant_id: ID dari peserta/partisipan hackathon. Kolom ini bersifat unique sehingga antar peserta pasti memiliki ID yang berbeda\n",
        "2.\tfirst_name: nama depan peserta\n",
        "3.\tlast_name: nama belakang peserta\n",
        "4.\tbirth_date: tanggal lahir peserta\n",
        "5.\taddress: alamat tempat tinggal peserta\n",
        "6.\tphone_number: nomor hp/telepon peserta\n",
        "7.\tcountry: negara asal peserta\n",
        "8.\tinstitute: institusi peserta saat ini, bisa berupa nama perusahaan maupun nama universitas\n",
        "9.\toccupation: pekerjaan peserta saat ini\n",
        "10.\tregister_time: waktu peserta melakukan pendaftaran hackathon dalam second\n",
        "Namun pada proyek ini nantinya Anda diminta untuk menghasilkan beberapa kolom dengan memanfaatkan kolom-kolom yang ada, sehingga akhir dari proyek ini berupa hasil transformasi data dengan beberapa kolom baru selain dari 10 kolom diatas\n"
      ],
      "metadata": {
        "id": "VO1oRqx3eiIX"
      }
    },
    {
      "cell_type": "markdown",
      "source": [
        "# **Extract**"
      ],
      "metadata": {
        "id": "9WPmgV0SeJyu"
      }
    },
    {
      "cell_type": "markdown",
      "source": [
        "Extract merupakan proses meng-ekstraksi data dari sumber, sumber data ini bisa berupa relational data (SQL) atau tabel, nonrelational (NoSQL) maupun yang lainnya."
      ],
      "metadata": {
        "id": "DZg4ka-Fezdg"
      }
    },
    {
      "cell_type": "code",
      "execution_count": null,
      "metadata": {
        "id": "J_csK-7QeseJ",
        "colab": {
          "base_uri": "https://localhost:8080/"
        },
        "outputId": "eb4310c9-9e70-4701-efe1-2a36754dc85c"
      },
      "outputs": [
        {
          "output_type": "stream",
          "name": "stdout",
          "text": [
            "                            participant_id  ... register_time\n",
            "0     bd9b6f88-b84f-4c4d-90f8-b67fe2f1a29a  ...  1.617634e+09\n",
            "1     7dfe3391-6f40-47b6-b4db-0c76ebaf5fc3  ...  1.617634e+09\n",
            "2     19582d7f-b824-4fe5-a517-d5bf573fc768  ...  1.617634e+09\n",
            "3     aeb6d817-25f3-4867-8a74-8d92e0a0f633  ...  1.617634e+09\n",
            "4     1fdabdd9-5444-4c97-87b2-fe8833ad0d27  ...  1.617634e+09\n",
            "...                                    ...  ...           ...\n",
            "4995  5f084245-58cb-4360-8cff-112f06f7214e  ...  1.617634e+09\n",
            "4996  fc6e142a-3f66-4330-9975-8c1dc7f9bb03  ...  1.617634e+09\n",
            "4997  4521ff9f-4aec-401b-84aa-a4e6fc6549a4  ...  1.617634e+09\n",
            "4998  1c91596e-427c-44a7-b7d0-974f44e18381  ...  1.617634e+09\n",
            "4999  5d682e84-bcb5-43e9-8ce0-615364f5376a  ...  1.617634e+09\n",
            "\n",
            "[5000 rows x 10 columns]\n"
          ]
        }
      ],
      "source": [
        "#Membaca dataset ini sebagai CSV \n",
        "\n",
        "import pandas as pd\n",
        "df_participant = pd.read_csv('https://storage.googleapis.com/dqlab-dataset/dqthon-participants.csv')\n",
        "print(df_participant) #jiika ingin melihat tampilan isinya"
      ]
    },
    {
      "cell_type": "markdown",
      "source": [
        "outputnya sama\n",
        "In [1]: import pandas as pd\n",
        "        df_participant = pd.read_csv('https://storage.googleapis.com/dqlab-dataset/dqthon-participants.csv')\n"
      ],
      "metadata": {
        "id": "ik5YZh_4fNvc"
      }
    },
    {
      "cell_type": "code",
      "source": [
        ""
      ],
      "metadata": {
        "id": "-3L1_9xSfhjZ"
      },
      "execution_count": null,
      "outputs": []
    },
    {
      "cell_type": "markdown",
      "source": [
        "# **Transform**"
      ],
      "metadata": {
        "id": "1uDIBo8CfQEd"
      }
    },
    {
      "cell_type": "markdown",
      "source": [
        "Transform merupakan proses melakukan transformasi data, atau perubahan terhadap data. Umumnya seperti:\n",
        "1.\tMerubah nilai dari suatu kolom ke nilai baru,\n",
        "2.\tMenciptakan kolom baru dengan memanfaatkan kolom lain,\n",
        "3.\tTranspose baris menjadi kolom (atau sebaliknya),\n",
        "4.\tMengubah format data ke bentuk yang lebih standard (contohnya, kolom date, maupun datetime yang biasanya memiliki nilai yang tidak standard maupun nomor HP yang biasanya memiliki nilai yang tidak sesuai format standardnya), dan lainnya."
      ],
      "metadata": {
        "id": "jOiT2K9BfSvX"
      }
    },
    {
      "cell_type": "markdown",
      "source": [
        "# Transform Bagian I - Kode Pos"
      ],
      "metadata": {
        "id": "W2JV3gorfnjg"
      }
    },
    {
      "cell_type": "markdown",
      "source": [
        "buatlah kolom baru bernama postal_code yang memuat informasi mengenai kode pos yang diambil dari alamat peserta (kolom address).\n",
        "Diketahui bahwa kode pos berada di paling akhir dari alamat tersebut.\n",
        "Note:\n",
        "Jika regex yang dimasukkan tidak bisa menangkap pattern dari value kolom address maka akan menghasilkan NaN."
      ],
      "metadata": {
        "id": "PoQeORiGfxQm"
      }
    },
    {
      "cell_type": "code",
      "source": [
        "import pandas as pd\n",
        "df_participant = pd.read_csv('https://storage.googleapis.com/dqlab-dataset/dqthon-participants.csv')\n",
        "\n",
        "df_participant['postal_code'] = df_participant['address'].str.extract(r'(\\d+)$') #Masukkan regex Anda didalam fungsi extract\n",
        "print(df_participant) #jiika ingin melihat tampilan isinya"
      ],
      "metadata": {
        "colab": {
          "base_uri": "https://localhost:8080/"
        },
        "id": "4aU9L4G_fzot",
        "outputId": "49a8720b-e271-46af-f440-29d1e4f28b6b"
      },
      "execution_count": null,
      "outputs": [
        {
          "output_type": "stream",
          "name": "stdout",
          "text": [
            "                            participant_id  ... postal_code\n",
            "0     bd9b6f88-b84f-4c4d-90f8-b67fe2f1a29a  ...       80734\n",
            "1     7dfe3391-6f40-47b6-b4db-0c76ebaf5fc3  ...       09434\n",
            "2     19582d7f-b824-4fe5-a517-d5bf573fc768  ...       57739\n",
            "3     aeb6d817-25f3-4867-8a74-8d92e0a0f633  ...       76156\n",
            "4     1fdabdd9-5444-4c97-87b2-fe8833ad0d27  ...       70074\n",
            "...                                    ...  ...         ...\n",
            "4995  5f084245-58cb-4360-8cff-112f06f7214e  ...       50268\n",
            "4996  fc6e142a-3f66-4330-9975-8c1dc7f9bb03  ...       57434\n",
            "4997  4521ff9f-4aec-401b-84aa-a4e6fc6549a4  ...       95312\n",
            "4998  1c91596e-427c-44a7-b7d0-974f44e18381  ...       80657\n",
            "4999  5d682e84-bcb5-43e9-8ce0-615364f5376a  ...       41134\n",
            "\n",
            "[5000 rows x 11 columns]\n"
          ]
        }
      ]
    },
    {
      "cell_type": "markdown",
      "source": [
        "# Transform Bagian II - Kota"
      ],
      "metadata": {
        "id": "tpOeaBqUf68t"
      }
    },
    {
      "cell_type": "markdown",
      "source": [
        "Untuk menyediakan informasi tersebut, buatlah kolom baru bernama city yang didapat dari kolom address. Diasumsikan bahwa kota merupakan sekumpulan karakter yang terdapat setelah nomor jalan diikuti dengan \\n (newline character) atau dalam bahasa lainnya yaitu enter"
      ],
      "metadata": {
        "id": "CMXq4VP5gBjC"
      }
    },
    {
      "cell_type": "code",
      "source": [
        "import pandas as pd\n",
        "df_participant = pd.read_csv('https://storage.googleapis.com/dqlab-dataset/dqthon-participants.csv')\n",
        "df_participant['postal_code'] = df_participant['address'].str.extract(r'(\\d+)$')\n",
        "\n",
        "#Masukkan regex Anda didalam fungsi extract\n",
        "df_participant['city'] = df_participant['address'].str.extract(r'(?<=\\n)(\\w.+)(?=,)')\n",
        "print(df_participant) #jiika ingin melihat tampilan isinya"
      ],
      "metadata": {
        "colab": {
          "base_uri": "https://localhost:8080/"
        },
        "id": "D0SAzLftgCqm",
        "outputId": "837359b2-b2c1-466e-8aeb-af7ec8aed7ab"
      },
      "execution_count": null,
      "outputs": [
        {
          "output_type": "stream",
          "name": "stdout",
          "text": [
            "                            participant_id first_name  ... postal_code          city\n",
            "0     bd9b6f88-b84f-4c4d-90f8-b67fe2f1a29a      Citra  ...       80734         Medan\n",
            "1     7dfe3391-6f40-47b6-b4db-0c76ebaf5fc3       Aris  ...       09434    Prabumulih\n",
            "2     19582d7f-b824-4fe5-a517-d5bf573fc768   Cornelia  ...       57739         Ambon\n",
            "3     aeb6d817-25f3-4867-8a74-8d92e0a0f633      Soleh  ...       76156  Lubuklinggau\n",
            "4     1fdabdd9-5444-4c97-87b2-fe8833ad0d27       Vivi  ...       70074        Kediri\n",
            "...                                    ...        ...  ...         ...           ...\n",
            "4995  5f084245-58cb-4360-8cff-112f06f7214e      Mitra  ...       50268       Cirebon\n",
            "4996  fc6e142a-3f66-4330-9975-8c1dc7f9bb03      Indah  ...       57434         Bogor\n",
            "4997  4521ff9f-4aec-401b-84aa-a4e6fc6549a4      Irsad  ...       95312  Tanjungbalai\n",
            "4998  1c91596e-427c-44a7-b7d0-974f44e18381      Carla  ...       80657        Manado\n",
            "4999  5d682e84-bcb5-43e9-8ce0-615364f5376a    Darmana  ...       41134       Bontang\n",
            "\n",
            "[5000 rows x 12 columns]\n"
          ]
        }
      ]
    },
    {
      "cell_type": "markdown",
      "source": [
        "# Transform Bagian III - Github"
      ],
      "metadata": {
        "id": "Any6qz21gH8c"
      }
    },
    {
      "cell_type": "markdown",
      "source": [
        "Tugas Anda yaitu membuat kolom baru bernama github_profile yang merupakan link profil github dari peserta.\n",
        "Diketahui bahwa profil github mereka merupakan gabungan dari first_name dan last_name yang sudah di-lowercase."
      ],
      "metadata": {
        "id": "cKLMQ3g1gOkX"
      }
    },
    {
      "cell_type": "code",
      "source": [
        "import pandas as pd\n",
        "df_participant = pd.read_csv('https://storage.googleapis.com/dqlab-dataset/dqthon-participants.csv')\n",
        "df_participant['postal_code'] = df_participant['address'].str.extract(r'(\\d+)$')\n",
        "df_participant['city'] = df_participant['address'].str.extract(r'(?<=\\n)(\\w.+)(?=,)') \n",
        "df_participant['github_profile'] = 'https://github.com/' + df_participant['first_name'].str.lower() + df_participant['last_name'].str.lower()\n",
        "print(df_participant) #jiika ingin melihat tampilan isinya\n"
      ],
      "metadata": {
        "colab": {
          "base_uri": "https://localhost:8080/"
        },
        "id": "NmdGdbKegPiw",
        "outputId": "34ebe553-5a28-4874-f97c-46805096ae7c"
      },
      "execution_count": null,
      "outputs": [
        {
          "output_type": "stream",
          "name": "stdout",
          "text": [
            "                            participant_id  ...                        github_profile\n",
            "0     bd9b6f88-b84f-4c4d-90f8-b67fe2f1a29a  ...    https://github.com/citranurdiyanti\n",
            "1     7dfe3391-6f40-47b6-b4db-0c76ebaf5fc3  ...       https://github.com/arissetiawan\n",
            "2     19582d7f-b824-4fe5-a517-d5bf573fc768  ...  https://github.com/corneliahandayani\n",
            "3     aeb6d817-25f3-4867-8a74-8d92e0a0f633  ...        https://github.com/solehrajasa\n",
            "4     1fdabdd9-5444-4c97-87b2-fe8833ad0d27  ...         https://github.com/viviastuti\n",
            "...                                    ...  ...                                   ...\n",
            "4995  5f084245-58cb-4360-8cff-112f06f7214e  ...      https://github.com/mitralatupono\n",
            "4996  fc6e142a-3f66-4330-9975-8c1dc7f9bb03  ...     https://github.com/indahrahmawati\n",
            "4997  4521ff9f-4aec-401b-84aa-a4e6fc6549a4  ...      https://github.com/irsadnajmudin\n",
            "4998  1c91596e-427c-44a7-b7d0-974f44e18381  ...      https://github.com/carlanasyidah\n",
            "4999  5d682e84-bcb5-43e9-8ce0-615364f5376a  ...     https://github.com/darmanamaryadi\n",
            "\n",
            "[5000 rows x 13 columns]\n"
          ]
        }
      ]
    },
    {
      "cell_type": "markdown",
      "source": [
        "# Transform Bagian IV - Nomor Handphone"
      ],
      "metadata": {
        "id": "yYoGrvhbgTuD"
      }
    },
    {
      "cell_type": "markdown",
      "source": [
        "Jika kita lihat kembali, ternyata nomor handphone yang ada pada data csv memiliki format yang berbeda-beda. \n",
        "Pada kasus ini menggunakan aturan formatnya:\n",
        "1.\tJika awalan nomor HP berupa angka 62 atau +62 yang merupakan kode telepon Indonesia, maka diterjemahkan ke 0.\n",
        "2.\tTidak ada tanda baca seperti kurung buka, kurung tutup, strip⟶ ()-\n",
        "3.\tTidak ada spasi pada nomor HP nama kolom untuk menyimpan hasil cleansing pada nomor HP yaitu cleaned_phone_number"
      ],
      "metadata": {
        "id": "45eUrULnghk8"
      }
    },
    {
      "cell_type": "code",
      "source": [
        "import pandas as pd\n",
        "df_participant = pd.read_csv('https://storage.googleapis.com/dqlab-dataset/dqthon-participants.csv')\n",
        "df_participant['postal_code'] = df_participant['address'].str.extract(r'(\\d+)$')\n",
        "df_participant['city'] = df_participant['address'].str.extract(r'(?<=\\n)(\\w.+)(?=,)') \n",
        "df_participant['github_profile'] = 'https://github.com/' + df_participant['first_name'].str.lower() + df_participant['last_name'].str.lower()\n",
        "\n",
        "#Masukkan regex anda pada parameter pertama dari fungsi replace\n",
        "df_participant['cleaned_phone_number'] = df_participant['phone_number'].str.replace(r'^(\\+62|62)', '0')\n",
        "df_participant['cleaned_phone_number'] = df_participant['cleaned_phone_number'].str.replace(r'[()-]', '')\n",
        "df_participant['cleaned_phone_number'] = df_participant['cleaned_phone_number'].str.replace(r'\\s+', '')\n",
        "print(df_participant) #jiika ingin melihat tampilan isinya"
      ],
      "metadata": {
        "colab": {
          "base_uri": "https://localhost:8080/"
        },
        "id": "-N9y_2lCgu_P",
        "outputId": "9b4deace-7c16-4814-a621-ddb19c84aa50"
      },
      "execution_count": null,
      "outputs": [
        {
          "output_type": "stream",
          "name": "stdout",
          "text": [
            "                            participant_id  ... cleaned_phone_number\n",
            "0     bd9b6f88-b84f-4c4d-90f8-b67fe2f1a29a  ...          01510812706\n",
            "1     7dfe3391-6f40-47b6-b4db-0c76ebaf5fc3  ...          00364617027\n",
            "2     19582d7f-b824-4fe5-a517-d5bf573fc768  ...           0898336695\n",
            "3     aeb6d817-25f3-4867-8a74-8d92e0a0f633  ...          04183294756\n",
            "4     1fdabdd9-5444-4c97-87b2-fe8833ad0d27  ...           0812511835\n",
            "...                                    ...  ...                  ...\n",
            "4995  5f084245-58cb-4360-8cff-112f06f7214e  ...          00507958398\n",
            "4996  fc6e142a-3f66-4330-9975-8c1dc7f9bb03  ...         004439630055\n",
            "4997  4521ff9f-4aec-401b-84aa-a4e6fc6549a4  ...         004082167689\n",
            "4998  1c91596e-427c-44a7-b7d0-974f44e18381  ...         007513803352\n",
            "4999  5d682e84-bcb5-43e9-8ce0-615364f5376a  ...          00664148791\n",
            "\n",
            "[5000 rows x 14 columns]\n"
          ]
        },
        {
          "output_type": "stream",
          "name": "stderr",
          "text": [
            "/usr/local/lib/python3.7/dist-packages/ipykernel_launcher.py:8: FutureWarning: The default value of regex will change from True to False in a future version.\n",
            "  \n",
            "/usr/local/lib/python3.7/dist-packages/ipykernel_launcher.py:9: FutureWarning: The default value of regex will change from True to False in a future version.\n",
            "  if __name__ == '__main__':\n",
            "/usr/local/lib/python3.7/dist-packages/ipykernel_launcher.py:10: FutureWarning: The default value of regex will change from True to False in a future version.\n",
            "  # Remove the CWD from sys.path while we load stuff.\n"
          ]
        }
      ]
    },
    {
      "cell_type": "markdown",
      "source": [
        "# Transform Bagian V - Nama Tim"
      ],
      "metadata": {
        "id": "OqR8xm4pg9LB"
      }
    },
    {
      "cell_type": "markdown",
      "source": [
        "Diketahui bahwa nama tim merupakan gabungan nilai dari kolom first_name, last_name, country dan institute.\n",
        "Tugas Anda yakni buatlah kolom baru dengan nama team_name yang memuat informasi nama tim dari peserta."
      ],
      "metadata": {
        "id": "CLO9tBNCp2Ni"
      }
    },
    {
      "cell_type": "code",
      "source": [
        "import pandas as pd\n",
        "df_participant = pd.read_csv('https://storage.googleapis.com/dqlab-dataset/dqthon-participants.csv')\n",
        "df_participant['postal_code'] = df_participant['address'].str.extract(r'(\\d+)$')\n",
        "df_participant['city'] = df_participant['address'].str.extract(r'(?<=\\n)(\\w.+)(?=,)') \n",
        "df_participant['github_profile'] = 'https://github.com/' + df_participant['first_name'].str.lower() + df_participant['last_name'].str.lower()\n",
        "df_participant['cleaned_phone_number'] = df_participant['phone_number'].str.replace(r'^(\\+62|62)', '0')\n",
        "df_participant['cleaned_phone_number'] = df_participant['cleaned_phone_number'].str.replace(r'[()-]', '')\n",
        "df_participant['cleaned_phone_number'] = df_participant['cleaned_phone_number'].str.replace(r'\\s+', '')\n",
        "\n",
        "def func(col):\n",
        "    abbrev_name = \"%s%s\"%(col['first_name'][0],col['last_name'][0]) #Singkatan dari Nama Depan dan Nama Belakang dengan mengambil huruf pertama\n",
        "    country = col['country']\n",
        "    abbrev_institute = '%s'%(''.join(list(map(lambda word: word[0], col['institute'].split())))) #Singkatan dari value di kolom institute\n",
        "    return \"%s-%s-%s\"%(abbrev_name,country,abbrev_institute)\n",
        "\n",
        "df_participant['team_name'] = df_participant.apply(func, axis=1)\n",
        "print(df_participant) #jiika ingin melihat tampilan isinya\n"
      ],
      "metadata": {
        "colab": {
          "base_uri": "https://localhost:8080/"
        },
        "id": "CdfPxTYLp6Qc",
        "outputId": "6ec98b8b-8e36-4bc4-9542-4f1cacb9e241"
      },
      "execution_count": null,
      "outputs": [
        {
          "output_type": "stream",
          "name": "stderr",
          "text": [
            "/usr/local/lib/python3.7/dist-packages/ipykernel_launcher.py:6: FutureWarning: The default value of regex will change from True to False in a future version.\n",
            "  \n",
            "/usr/local/lib/python3.7/dist-packages/ipykernel_launcher.py:7: FutureWarning: The default value of regex will change from True to False in a future version.\n",
            "  import sys\n",
            "/usr/local/lib/python3.7/dist-packages/ipykernel_launcher.py:8: FutureWarning: The default value of regex will change from True to False in a future version.\n",
            "  \n"
          ]
        },
        {
          "output_type": "stream",
          "name": "stdout",
          "text": [
            "                            participant_id  ...          team_name\n",
            "0     bd9b6f88-b84f-4c4d-90f8-b67fe2f1a29a  ...     CN-Georgia-UPM\n",
            "1     7dfe3391-6f40-47b6-b4db-0c76ebaf5fc3  ...  AS-Korea Utara-UD\n",
            "2     19582d7f-b824-4fe5-a517-d5bf573fc768  ...      CH-Komoro-UHP\n",
            "3     aeb6d817-25f3-4867-8a74-8d92e0a0f633  ...     SR-Eritrea-PTY\n",
            "4     1fdabdd9-5444-4c97-87b2-fe8833ad0d27  ...    VA-Aljazair-PHR\n",
            "...                                    ...  ...                ...\n",
            "4995  5f084245-58cb-4360-8cff-112f06f7214e  ...   ML-Hongaria-ITSN\n",
            "4996  fc6e142a-3f66-4330-9975-8c1dc7f9bb03  ...   IR-Norwegia-CSHT\n",
            "4997  4521ff9f-4aec-401b-84aa-a4e6fc6549a4  ...      IN-Ghana-UKWM\n",
            "4998  1c91596e-427c-44a7-b7d0-974f44e18381  ...     CN-Gambia-CP(T\n",
            "4999  5d682e84-bcb5-43e9-8ce0-615364f5376a  ...   DM-Singapura-PLK\n",
            "\n",
            "[5000 rows x 15 columns]\n"
          ]
        }
      ]
    },
    {
      "cell_type": "markdown",
      "source": [
        "# Transform Bagian VI - Email"
      ],
      "metadata": {
        "id": "ojIre2U5qE97"
      }
    },
    {
      "cell_type": "markdown",
      "source": [
        "Format email sebagai berikut:\n",
        "Format email:\n",
        "xxyy@aa.bb.[ac/com].[cc]\n",
        "\n",
        "Keterangan:\n",
        "xx -> nama depan (first_name) dalam lowercase\n",
        "yy -> nama belakang (last_name) dalam lowercase\n",
        "aa -> nama institusi\n",
        "\n",
        "Untuk nilai bb, dan cc mengikuti nilai dari aa. Aturannya:\n",
        "- Jika institusi nya merupakan Universitas, maka\n",
        "  bb -> gabungan dari huruf pertama pada setiap kata dari nama Universitas dalam lowercase\n",
        "  Kemudian, diikuti dengan .ac yang menandakan akademi/institusi belajar dan diikuti dengan pattern cc\n",
        "- Jika institusi bukan merupakan Universitas, maka\n",
        "  bb -> gabungan dari huruf pertama pada setiap kata dari nama Universitas dalam lowercase\n",
        "  Kemudian, diikuti dengan .com. Perlu diketahui bahwa pattern cc tidak berlaku pada kondisi ini\n",
        "\n",
        "cc -> merupakan negara asal peserta, adapun aturannya:\n",
        "- Jika banyaknya kata pada negara tersebut lebih dari 1 maka ambil singkatan dari negara tersebut dalam lowercase\n",
        "- Namun, jika banyaknya kata hanya 1 maka ambil 3 huruf terdepan dari negara tersebut dalam lowercase\n",
        "  \n"
      ],
      "metadata": {
        "id": "fhn3O_IdqGxs"
      }
    },
    {
      "cell_type": "markdown",
      "source": [
        "Contoh:\n",
        "  Nama depan: Citra\n",
        "  Nama belakang: Nurdiyanti\n",
        "  Institusi: UD Prakasa Mandasari\n",
        "  Negara: Georgia\n",
        "  Maka,Email nya: citranurdiyanti@upm.geo\n",
        "  \n",
        "  Nama depan: Aris\n",
        "  Nama belakang: Setiawan\n",
        "  Institusi: Universitas Diponegoro\n",
        "  Negara: Korea Utara\n",
        "  Maka, Email nya: arissetiawan@ud.ac.ku"
      ],
      "metadata": {
        "id": "24T3jAV8qWcy"
      }
    },
    {
      "cell_type": "code",
      "source": [
        "import pandas as pd\n",
        "df_participant = pd.read_csv('https://storage.googleapis.com/dqlab-dataset/dqthon-participants.csv')\n",
        "df_participant['postal_code'] = df_participant['address'].str.extract(r'(\\d+)$')\n",
        "df_participant['city'] = df_participant['address'].str.extract(r'(?<=\\n)(\\w.+)(?=,)') \n",
        "df_participant['github_profile'] = 'https://github.com/' + df_participant['first_name'].str.lower() + df_participant['last_name'].str.lower()\n",
        "df_participant['cleaned_phone_number'] = df_participant['phone_number'].str.replace(r'^(\\+62|62)', '0')\n",
        "df_participant['cleaned_phone_number'] = df_participant['cleaned_phone_number'].str.replace(r'[()-]', '')\n",
        "df_participant['cleaned_phone_number'] = df_participant['cleaned_phone_number'].str.replace(r'\\s+', '')\n",
        "\n",
        "def func(col):\n",
        "    abbrev_name = \"%s%s\"%(col['first_name'][0],col['last_name'][0])\n",
        "    country = col['country']\n",
        "    abbrev_institute = '%s'%(''.join(list(map(lambda word: word[0], col['institute'].split()))))\n",
        "    return \"%s-%s-%s\"%(abbrev_name,country,abbrev_institute)\n",
        "df_participant['team_name'] = df_participant.apply(func, axis=1)\n",
        "\n",
        "def func(col):\n",
        "    first_name_lower = col['first_name'].lower()\n",
        "    last_name_lower = col['last_name'].lower()\n",
        "    institute = ''.join(list(map(lambda word: word[0], col['institute'].lower().split()))) #Singkatan dari nama perusahaan dalam lowercase\n",
        "\n",
        "    if 'Universitas' in col['institute']:\n",
        "        if len(col['country'].split()) > 1: #Kondisi untuk mengecek apakah jumlah kata dari country lebih dari 1\n",
        "            country = ''.join(list(map(lambda word: word[0], col['country'].lower().split())))\n",
        "        else:\n",
        "            country = col['country'][:3].lower()\n",
        "        return \"%s%s@%s.ac.%s\"%(first_name_lower,last_name_lower,institute,country)\n",
        "\n",
        "    return \"%s%s@%s.com\"%(first_name_lower,last_name_lower,institute)\n",
        "\n",
        "df_participant['email'] = df_participant.apply(func, axis=1)\n",
        "print(df_participant) #jiika ingin melihat tampilan isinya\n"
      ],
      "metadata": {
        "colab": {
          "base_uri": "https://localhost:8080/"
        },
        "id": "z2MHVTEEqcaM",
        "outputId": "11248b2f-4910-4ed3-e34b-7cb9f5264765"
      },
      "execution_count": null,
      "outputs": [
        {
          "output_type": "stream",
          "name": "stderr",
          "text": [
            "/usr/local/lib/python3.7/dist-packages/ipykernel_launcher.py:6: FutureWarning: The default value of regex will change from True to False in a future version.\n",
            "  \n",
            "/usr/local/lib/python3.7/dist-packages/ipykernel_launcher.py:7: FutureWarning: The default value of regex will change from True to False in a future version.\n",
            "  import sys\n",
            "/usr/local/lib/python3.7/dist-packages/ipykernel_launcher.py:8: FutureWarning: The default value of regex will change from True to False in a future version.\n",
            "  \n"
          ]
        },
        {
          "output_type": "stream",
          "name": "stdout",
          "text": [
            "                            participant_id  ...                      email\n",
            "0     bd9b6f88-b84f-4c4d-90f8-b67fe2f1a29a  ...    citranurdiyanti@upm.com\n",
            "1     7dfe3391-6f40-47b6-b4db-0c76ebaf5fc3  ...      arissetiawan@ud.ac.ku\n",
            "2     19582d7f-b824-4fe5-a517-d5bf573fc768  ...  corneliahandayani@uhp.com\n",
            "3     aeb6d817-25f3-4867-8a74-8d92e0a0f633  ...        solehrajasa@pty.com\n",
            "4     1fdabdd9-5444-4c97-87b2-fe8833ad0d27  ...         viviastuti@phr.com\n",
            "...                                    ...  ...                        ...\n",
            "4995  5f084245-58cb-4360-8cff-112f06f7214e  ...     mitralatupono@itsn.com\n",
            "4996  fc6e142a-3f66-4330-9975-8c1dc7f9bb03  ...    indahrahmawati@csht.com\n",
            "4997  4521ff9f-4aec-401b-84aa-a4e6fc6549a4  ...  irsadnajmudin@ukwm.ac.gha\n",
            "4998  1c91596e-427c-44a7-b7d0-974f44e18381  ...     carlanasyidah@cp(t.com\n",
            "4999  5d682e84-bcb5-43e9-8ce0-615364f5376a  ...     darmanamaryadi@plk.com\n",
            "\n",
            "[5000 rows x 16 columns]\n"
          ]
        }
      ]
    },
    {
      "cell_type": "markdown",
      "source": [
        "# Transform Bagian VII - Tanggal Lahir"
      ],
      "metadata": {
        "id": "Dpc7M7qCqw50"
      }
    },
    {
      "cell_type": "markdown",
      "source": [
        "MySQL merupakan salah satu database yang sangat populer dan digunakan untuk menyimpan data berupa tabel, termasuk data hasil pengolahan yang sudah kita lakukan ini nantinya bisa dimasukkan ke MySQL.\n",
        "Meskipun begitu, ada suatu aturan dari MySQL terkait format tanggal yang bisa mereka terima yaitu YYYY-MM-DD dengan keterangan:\n",
        "•\tYYYY: 4 digit yang menandakan tahun\n",
        "•\tMM: 2 digit yang menandakan bulan\n",
        "•\tDD: 2 digit yang menandakan tanggal\n",
        "Contohnya yaitu: 2021-04-07\n",
        "(Lihat lebih detail di: https://www.mysqltutorial.org/mysql-date/).\n",
        "Oleh karena itu, lakukanlah formatting terhadap kolom birth_date menjadi YYYY-MM-DD dan simpan di kolom yang sama."
      ],
      "metadata": {
        "id": "sTKnHgCeqyNs"
      }
    },
    {
      "cell_type": "code",
      "source": [
        "import pandas as pd\n",
        "df_participant = pd.read_csv('https://storage.googleapis.com/dqlab-dataset/dqthon-participants.csv')\n",
        "df_participant['postal_code'] = df_participant['address'].str.extract(r'(\\d+)$')\n",
        "df_participant['city'] = df_participant['address'].str.extract(r'(?<=\\n)(\\w.+)(?=,)') \n",
        "df_participant['github_profile'] = 'https://github.com/' + df_participant['first_name'].str.lower() + df_participant['last_name'].str.lower()\n",
        "df_participant['cleaned_phone_number'] = df_participant['phone_number'].str.replace(r'^(\\+62|62)', '0')\n",
        "df_participant['cleaned_phone_number'] = df_participant['cleaned_phone_number'].str.replace(r'[()-]', '')\n",
        "df_participant['cleaned_phone_number'] = df_participant['cleaned_phone_number'].str.replace(r'\\s+', '')\n",
        "\n",
        "def func(col):\n",
        "    abbrev_name = \"%s%s\"%(col['first_name'][0],col['last_name'][0])\n",
        "    country = col['country']\n",
        "    abbrev_institute = '%s'%(''.join(list(map(lambda word: word[0], col['institute'].split()))))\n",
        "    return \"%s-%s-%s\"%(abbrev_name,country,abbrev_institute)\n",
        "df_participant['team_name'] = df_participant.apply(func, axis=1)\n",
        "\n",
        "def func(col):\n",
        "    first_name_lower = col['first_name'].lower()\n",
        "last_name_lower = col['last_name'].lower()\n",
        "    institute = ''.join(list(map(lambda word: word[0], col['institute'].lower().split())))\n",
        "    if 'Universitas' in col['institute']:\n",
        "        if len(col['country'].split()) > 1:\n",
        "            country = ''.join(list(map(lambda word: word[0], col['country'].lower().split())))\n",
        "        else:\n",
        "            country = col['country'][:3].lower()\n",
        "        return \"%s%s@%s.ac.%s\"%(first_name_lower,last_name_lower,institute,country)\n",
        "        \n",
        "    return \"%s%s@%s.com\"%(first_name_lower,last_name_lower,institute)\n",
        "    \n",
        "df_participant['email'] = df_participant.apply(func, axis=1)\n",
        "\n",
        "\n",
        "df_participant['birth_date'] = pd.to_datetime(df_participant['birth_date'], format='%d %b %y')\n",
        "print(df_participant) #jiika ingin melihat tampilan isinya\n",
        "\n"
      ],
      "metadata": {
        "colab": {
          "base_uri": "https://localhost:8080/"
        },
        "id": "P9uhLDltq8HB",
        "outputId": "db4d3345-4249-4c75-f1b9-ba5fe617115f"
      },
      "execution_count": null,
      "outputs": [
        {
          "output_type": "stream",
          "name": "stderr",
          "text": [
            "/usr/local/lib/python3.7/dist-packages/ipykernel_launcher.py:6: FutureWarning: The default value of regex will change from True to False in a future version.\n",
            "  \n",
            "/usr/local/lib/python3.7/dist-packages/ipykernel_launcher.py:7: FutureWarning: The default value of regex will change from True to False in a future version.\n",
            "  import sys\n",
            "/usr/local/lib/python3.7/dist-packages/ipykernel_launcher.py:8: FutureWarning: The default value of regex will change from True to False in a future version.\n",
            "  \n"
          ]
        }
      ]
    },
    {
      "cell_type": "markdown",
      "source": [
        "# Transform Bagian VII - Tanggal Daftar Kompetisi"
      ],
      "metadata": {
        "id": "bI6Tk7N9rtJN"
      }
    },
    {
      "cell_type": "markdown",
      "source": [
        "Selain punya aturan mengenai format DATE, MySQL juga memberi aturan pada data yang bertipe DATETIME yaitu YYYY-MM-DD HH:mm:ss dengan keterangan:\n",
        "•\tYYYY: 4 digit yang menandakan tahun\n",
        "•\tMM: 2 digit yang menandakan bulan\n",
        "•\tDD: 2 digit yang menandakan tanggal\n",
        "•\tHH: 2 digit yang menandakan jam\n",
        "•\tmm: 2 digit yang menandakan menit\n",
        "•\tss: 2 digit yang menandakan detik\n",
        "Contohnya yaitu: 2021-04-07 15:10:55\n",
        "Karena data kita mengenai waktu registrasi peserta (register_time) belum sesuai format yang seharusnya.\n",
        "Maka dari itu, tugas Anda yaitu untuk merubah register_time ke format DATETIME sesuai dengan aturan dari MySQL.\n",
        "Simpanlah hasil tersebut ke kolom register_at"
      ],
      "metadata": {
        "id": "qej4Hy4BrzrU"
      }
    },
    {
      "cell_type": "code",
      "source": [
        "import pandas as pd\n",
        "df_participant = pd.read_csv('https://storage.googleapis.com/dqlab-dataset/dqthon-participants.csv')\n",
        "df_participant['postal_code'] = df_participant['address'].str.extract(r'(\\d+)$')\n",
        "df_participant['city'] = df_participant['address'].str.extract(r'(?<=\\n)(\\w.+)(?=,)') \n",
        "df_participant['github_profile'] = 'https://github.com/' + df_participant['first_name'].str.lower() + df_participant['last_name'].str.lower()\n",
        "df_participant['cleaned_phone_number'] = df_participant['phone_number'].str.replace(r'^(\\+62|62)', '0')\n",
        "df_participant['cleaned_phone_number'] = df_participant['cleaned_phone_number'].str.replace(r'[()-]', '')\n",
        "df_participant['cleaned_phone_number'] = df_participant['cleaned_phone_number'].str.replace(r'\\s+', '')\n",
        "\n",
        "def func(col):\n",
        "    abbrev_name = \"%s%s\"%(col['first_name'][0],col['last_name'][0])\n",
        "    country = col['country']\n",
        "    abbrev_institute = '%s'%(''.join(list(map(lambda word: word[0], col['institute'].split()))))\n",
        "    return \"%s-%s-%s\"%(abbrev_name,country,abbrev_institute)\n",
        "df_participant['team_name'] = df_participant.apply(func, axis=1)\n",
        "\n",
        "def func(col):\n",
        "    first_name_lower = col['first_name'].lower()\n",
        "    last_name_lower = col['last_name'].lower()\n",
        "    institute = ''.join(list(map(lambda word: word[0], col['institute'].lower().split())))\n",
        "    \n",
        "    if 'Universitas' in col['institute']:\n",
        "        if len(col['country'].split()) > 1:\n",
        "            country = ''.join(list(map(lambda word: word[0], col['country'].lower().split())))\n",
        "        else:\n",
        "            country = col['country'][:3].lower()\n",
        "        return \"%s%s@%s.ac.%s\"%(first_name_lower,last_name_lower,institute,country)\n",
        "        \n",
        "    return \"%s%s@%s.com\"%(first_name_lower,last_name_lower,institute)\n",
        "    \n",
        "df_participant['email'] = df_participant.apply(func, axis=1)\n",
        "df_participant['birth_date'] = pd.to_datetime(df_participant['birth_date'], format='%d %b %Y')\n",
        "\n",
        "\n",
        "df_participant['register_at'] = pd.to_datetime(df_participant['register_time'], unit='s')\n",
        "print(df_participant) #jika ingin melihat isinya\n"
      ],
      "metadata": {
        "colab": {
          "base_uri": "https://localhost:8080/"
        },
        "id": "ah37cpxnr03e",
        "outputId": "ec721227-ab03-414e-8737-4b695e351401"
      },
      "execution_count": null,
      "outputs": [
        {
          "output_type": "stream",
          "name": "stderr",
          "text": [
            "/usr/local/lib/python3.7/dist-packages/ipykernel_launcher.py:6: FutureWarning: The default value of regex will change from True to False in a future version.\n",
            "  \n",
            "/usr/local/lib/python3.7/dist-packages/ipykernel_launcher.py:7: FutureWarning: The default value of regex will change from True to False in a future version.\n",
            "  import sys\n",
            "/usr/local/lib/python3.7/dist-packages/ipykernel_launcher.py:8: FutureWarning: The default value of regex will change from True to False in a future version.\n",
            "  \n"
          ]
        },
        {
          "output_type": "stream",
          "name": "stdout",
          "text": [
            "                            participant_id  ...         register_at\n",
            "0     bd9b6f88-b84f-4c4d-90f8-b67fe2f1a29a  ... 2021-04-05 14:47:26\n",
            "1     7dfe3391-6f40-47b6-b4db-0c76ebaf5fc3  ... 2021-04-05 14:46:58\n",
            "2     19582d7f-b824-4fe5-a517-d5bf573fc768  ... 2021-04-05 14:47:15\n",
            "3     aeb6d817-25f3-4867-8a74-8d92e0a0f633  ... 2021-04-05 14:47:14\n",
            "4     1fdabdd9-5444-4c97-87b2-fe8833ad0d27  ... 2021-04-05 14:46:50\n",
            "...                                    ...  ...                 ...\n",
            "4995  5f084245-58cb-4360-8cff-112f06f7214e  ... 2021-04-05 14:46:16\n",
            "4996  fc6e142a-3f66-4330-9975-8c1dc7f9bb03  ... 2021-04-05 14:46:48\n",
            "4997  4521ff9f-4aec-401b-84aa-a4e6fc6549a4  ... 2021-04-05 14:46:06\n",
            "4998  1c91596e-427c-44a7-b7d0-974f44e18381  ... 2021-04-05 14:46:45\n",
            "4999  5d682e84-bcb5-43e9-8ce0-615364f5376a  ... 2021-04-05 14:46:51\n",
            "\n",
            "[5000 rows x 17 columns]\n"
          ]
        }
      ]
    },
    {
      "cell_type": "markdown",
      "source": [
        "# **Kesimpulan**"
      ],
      "metadata": {
        "id": "faqoepmisCpT"
      }
    },
    {
      "cell_type": "markdown",
      "source": [
        "Jika dilihat kembali, dataset Anda saat ini sudah berbeda dengan saat proses extract sebelumnya. Ada beberapa kolom tambahan yang memanfaatkan nilai kolom lain.\n",
        "Dataset Anda saat ini memuat kolom:\n",
        "1.\tparticipant_id: ID dari peserta/partisipan hackathon. Kolom ini bersifat unique sehingga antar peserta pasti memiliki ID yang berbeda\n",
        "2.\tfirst_name: nama depan peserta\n",
        "3.\tlast_name: nama belakang peserta\n",
        "4.\tbirth_date: tanggal lahir peserta (sudah diformat ke YYYY-MM-DD)\n",
        "5.\taddress: alamat tempat tinggal peserta\n",
        "6.\tphone_number: nomor hp/telepon peserta\n",
        "7.\tcountry: negara asal peserta\n",
        "8.\tinstitute: institusi peserta saat ini, bisa berupa nama perusahaan maupun nama universitas\n",
        "9.\toccupation: pekerjaan peserta saat ini\n",
        "10.\tregister_time: waktu peserta melakukan pendaftaran hackathon dalam second\n",
        "11.\tteam_name: nama tim peserta (gabungan dari nama depan, nama belakang, negara dan institusi)\n",
        "12.\tpostal_code: kode pos alamat peserta (diambil dari kolom alamat)\n",
        "13.\tcity: kota peserta (diambil dari kolom alamat)\n",
        "14.\tgithub_profile: link profil github peserta (gabungan dari nama depan, dan nama belakang)\n",
        "15.\temail: alamat email peserta (gabungan dari nama depan, nama belakang, institusi dan negara)\n",
        "16.\tcleaned_phone_number: nomor hp/telepon peserta (sudah lebih sesuai dengan format nomor telepon)\n",
        "17.\tregister_at: tanggal dan waktu peserta melakukan pendaftaran (sudah dalam format DATETIME)"
      ],
      "metadata": {
        "id": "7C3hfHzqsGir"
      }
    },
    {
      "cell_type": "markdown",
      "source": [
        "# **Referensi**"
      ],
      "metadata": {
        "id": "Y7bciAtbsnH4"
      }
    },
    {
      "cell_type": "markdown",
      "source": [
        "[ https://pandas.pydata.org/docs/reference/api/pandas.DataFrame.to_sql.html ]\n",
        "[ https://www.kaggle.com/rafifarraskusuma/data-competition-elimination ]\n",
        "[ https://docs.python.org/3/library/re.html ]"
      ],
      "metadata": {
        "id": "eLgVtKYftHBb"
      }
    }
  ]
}