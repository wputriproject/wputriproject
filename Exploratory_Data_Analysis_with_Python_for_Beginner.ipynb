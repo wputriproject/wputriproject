{
  "nbformat": 4,
  "nbformat_minor": 0,
  "metadata": {
    "colab": {
      "name": "Exploratory Data Analysis with Python for Beginner.ipynb",
      "provenance": [],
      "toc_visible": true,
      "authorship_tag": "ABX9TyMQ1+XNMIlr6r0F4uQG2dpQ",
      "include_colab_link": true
    },
    "kernelspec": {
      "name": "python3",
      "display_name": "Python 3"
    },
    "language_info": {
      "name": "python"
    }
  },
  "cells": [
    {
      "cell_type": "markdown",
      "metadata": {
        "id": "view-in-github",
        "colab_type": "text"
      },
      "source": [
        "<a href=\"https://colab.research.google.com/github/wputriproject/wputriproject/blob/main/Exploratory_Data_Analysis_with_Python_for_Beginner.ipynb\" target=\"_parent\"><img src=\"https://colab.research.google.com/assets/colab-badge.svg\" alt=\"Open In Colab\"/></a>"
      ]
    },
    {
      "cell_type": "markdown",
      "source": [
        "Sumber Materi : DQLab Academy\n",
        "Saya telah menyelesaikan modul Data Analyst melalui Platform DQLab Academy tentang Exploratory Data Analysis with Python for Beginner. Berikut merupakan hasil belajar saya mengenai salah satu aplikasi bahasa pemrograman, Python. Semoga dapat dijadikan sebagai referensi belajar, bekerja dan pengembangan karya Data Analyst dan Pemrograman yang lebih relevan. Saya masih aktif mengerjakan modul melalui platform DQLab Academy. Saya juga sangat terbuka untuk melakukan analisa, visualisasi data hingga interpretasi dan pengambilan keputusan. \n",
        "#opentowork #opentodiscuss \n",
        "\n",
        "---"
      ],
      "metadata": {
        "id": "6B1OO8HtMB1Z"
      }
    },
    {
      "cell_type": "markdown",
      "source": [
        "# Import Dataset Marketplace ABC"
      ],
      "metadata": {
        "id": "DuXZ293RLHXI"
      }
    },
    {
      "cell_type": "code",
      "execution_count": 9,
      "metadata": {
        "colab": {
          "base_uri": "https://localhost:8080/"
        },
        "id": "H12S1_OpeAos",
        "outputId": "f3623e8e-caf7-4fcd-85b8-2cbd1a604853"
      },
      "outputs": [
        {
          "output_type": "stream",
          "name": "stdout",
          "text": [
            "                               order_id  ...  product_weight_gram\n",
            "0      2e7a8482f6fb09756ca50c10d7bfc047  ...               1800.0\n",
            "1      2e7a8482f6fb09756ca50c10d7bfc047  ...               1400.0\n",
            "2      e5fa5a7210941f7d56d0208e4e071d35  ...                700.0\n",
            "3      3b697a20d9e427646d92567910af6d57  ...                300.0\n",
            "4      71303d7e93b399f5bcd537d124c0bcfa  ...                500.0\n",
            "...                                 ...  ...                  ...\n",
            "49994  ec88157ad03aa203c3fdfe7bace5ab6b  ...               2425.0\n",
            "49995  ed60085e92e2aa3debf49159deb34da7  ...               2350.0\n",
            "49996  ed98c37d860890f940e2acd83629fdd1  ...               2600.0\n",
            "49997  ed98c37d860890f940e2acd83629fdd1  ...               2600.0\n",
            "49998  ede4ebbb6e36cbd377eabcc7f5229575  ...               1450.0\n",
            "\n",
            "[49999 rows x 12 columns]\n"
          ]
        }
      ],
      "source": [
        "#mengimport dataset marketplace ABC dari order.csv dan disimpan ke dalam dataframe bernama order_df\n",
        "import pandas as pd\n",
        "order_df = pd.read_csv(\"https://storage.googleapis.com/dqlab-dataset/order.csv\")\n",
        "print(order_df)\n"
      ]
    },
    {
      "cell_type": "markdown",
      "source": [
        "# Melihat Struktur dari order_df"
      ],
      "metadata": {
        "id": "V0neqeScLNKx"
      }
    },
    {
      "cell_type": "code",
      "source": [
        "#order dataframe dengan menuliskan syntax Python untuk melihat struktur dari order_df dengan menggunakan fungsi shape\n",
        "import pandas as pd\n",
        "order_df = pd.read_csv(\"https://storage.googleapis.com/dqlab-dataset/order.csv\")\n",
        "print(order_df.shape)\n"
      ],
      "metadata": {
        "colab": {
          "base_uri": "https://localhost:8080/"
        },
        "id": "qpfzPodPeyzb",
        "outputId": "54979c8a-3515-4199-dcfb-035c9f37e82e"
      },
      "execution_count": 10,
      "outputs": [
        {
          "output_type": "stream",
          "name": "stdout",
          "text": [
            "(49999, 12)\n"
          ]
        }
      ]
    },
    {
      "cell_type": "markdown",
      "source": [
        "# Contoh Dataframe dengan Limit 10 Baris Menggunakan Fungsi Head"
      ],
      "metadata": {
        "id": "56rEaZeuLbZx"
      }
    },
    {
      "cell_type": "code",
      "source": [
        "#check bagaimana contoh data dari dataframe tersebut dengan fungsi head dengan limit 10 baris\n",
        "import pandas as pd\n",
        "order_df = pd.read_csv(\"https://storage.googleapis.com/dqlab-dataset/order.csv\")\n",
        "print(order_df.head(10))"
      ],
      "metadata": {
        "colab": {
          "base_uri": "https://localhost:8080/"
        },
        "id": "3XmYKhzvhSzI",
        "outputId": "1d95c32f-d97e-4832-c1a7-45c780b86cad"
      },
      "execution_count": 11,
      "outputs": [
        {
          "output_type": "stream",
          "name": "stdout",
          "text": [
            "                           order_id  ...  product_weight_gram\n",
            "0  2e7a8482f6fb09756ca50c10d7bfc047  ...               1800.0\n",
            "1  2e7a8482f6fb09756ca50c10d7bfc047  ...               1400.0\n",
            "2  e5fa5a7210941f7d56d0208e4e071d35  ...                700.0\n",
            "3  3b697a20d9e427646d92567910af6d57  ...                300.0\n",
            "4  71303d7e93b399f5bcd537d124c0bcfa  ...                500.0\n",
            "5  be5bc2f0da14d8071e2d45451ad119d9  ...                400.0\n",
            "6  0a0837a5eee9e7a9ce2b1fa831944d27  ...               3100.0\n",
            "7  1ff217aa612f6cd7c4255c9bfe931c8b  ...                200.0\n",
            "8  22613579f7d11cc59c4347526fc3c79e  ...                600.0\n",
            "9  356b492aba2d1a7da886e54e0b6212b7  ...                610.0\n",
            "\n",
            "[10 rows x 12 columns]\n"
          ]
        }
      ]
    },
    {
      "cell_type": "markdown",
      "source": [
        "# Quick Summary"
      ],
      "metadata": {
        "id": "vhyxLBJzLpE_"
      }
    },
    {
      "cell_type": "code",
      "source": [
        "#quick summary dari segi kuantitas, harga, freight value, dan weight yang dibeli konsumen\n",
        "#median dari total pembelian konsumen per transaksi\n",
        "\n",
        "import pandas as pd\n",
        "order_df = pd.read_csv(\"https://storage.googleapis.com/dqlab-dataset/order.csv\")\n",
        "# Quick summary  dari segi kuantitas, harga, freight value, dan weight\n",
        "print(order_df.describe())\n",
        "# Median dari total pembelian konsumen per transaksi kolom price\n",
        "print(order_df.loc[:, \"price\"].median())\n"
      ],
      "metadata": {
        "colab": {
          "base_uri": "https://localhost:8080/"
        },
        "id": "3lbxRXipiMar",
        "outputId": "d312ecbf-c050-4d0a-937d-d73bde43a713"
      },
      "execution_count": 12,
      "outputs": [
        {
          "output_type": "stream",
          "name": "stdout",
          "text": [
            "           quantity         price  freight_value  product_weight_gram\n",
            "count  49999.000000  4.999900e+04   49999.000000         49980.000000\n",
            "mean       1.197484  2.607784e+06  104521.390428          2201.830892\n",
            "std        0.722262  1.388312e+06   55179.844962          3929.896875\n",
            "min        1.000000  2.000000e+05    9000.000000            50.000000\n",
            "25%        1.000000  1.410500e+06   57000.000000           300.000000\n",
            "50%        1.000000  2.610000e+06  104000.000000           800.000000\n",
            "75%        1.000000  3.810000e+06  152000.000000          1850.000000\n",
            "max       21.000000  5.000000e+06  200000.000000         40425.000000\n",
            "2610000.0\n"
          ]
        }
      ]
    },
    {
      "cell_type": "markdown",
      "source": [
        "# Price Distribution"
      ],
      "metadata": {
        "id": "bFXAV5AoLtRi"
      }
    },
    {
      "cell_type": "code",
      "source": [
        "#price distribution dari pembelian produk dalam bentuk histogram price dengan jumlah bins=10 dari dataset order_df\n",
        "\n",
        "import pandas as pd\n",
        "import matplotlib.pyplot as plt\n",
        "order_df = pd.read_csv(\"https://storage.googleapis.com/dqlab-dataset/order.csv\")\n",
        "# plot histogram kolom: price\n",
        "order_df[[\"price\"]].hist(figsize=(4, 5), bins=10, xlabelsize=8, ylabelsize=8)\n",
        "plt.show()  # Untuk menampilkan histogram plot\n",
        "\n"
      ],
      "metadata": {
        "colab": {
          "base_uri": "https://localhost:8080/",
          "height": 348
        },
        "id": "uPXYPFjNi07t",
        "outputId": "2b298f52-80c7-46f5-dbcc-c3ec7bf37e2f"
      },
      "execution_count": 13,
      "outputs": [
        {
          "output_type": "display_data",
          "data": {
            "image/png": "[encoded data removed]",
            "text/plain": [
              "<Figure size 288x360 with 1 Axes>"
            ]
          },
          "metadata": {
            "needs_background": "light"
          }
        }
      ]
    },
    {
      "cell_type": "markdown",
      "source": [
        "# Product Weight Gram Distribution"
      ],
      "metadata": {
        "id": "i22UCTzULzeD"
      }
    },
    {
      "cell_type": "code",
      "source": [
        "#Menampilkan data persebaran dari product_weight_gram penjualan menggunakan standar deviasi dan variance untuk menganalisis lebar persebaran distribusi\n",
        "\n",
        "import pandas as pd\n",
        "order_df = pd.read_csv(\"https://storage.googleapis.com/dqlab-dataset/order.csv\")\n",
        "# Standar variasi kolom product_weight_gram\n",
        "order_df.loc[:, \"product_weight_gram\"].std()\n",
        "# Varians kolom product_weight_gram\n",
        "order_df.loc[:, \"product_weight_gram\"].var()\n",
        "\n",
        "#untuk menunjukkan isi dari order_df, maka scriptnya:\n",
        "\n",
        "print(order_df), #sehingga hasilnya seperti berikut:\n"
      ],
      "metadata": {
        "colab": {
          "base_uri": "https://localhost:8080/"
        },
        "id": "R5t_v4qtjRDi",
        "outputId": "119bc314-9a37-4ff4-bd37-3f9a05441492"
      },
      "execution_count": 14,
      "outputs": [
        {
          "output_type": "stream",
          "name": "stdout",
          "text": [
            "                               order_id  ...  product_weight_gram\n",
            "0      2e7a8482f6fb09756ca50c10d7bfc047  ...               1800.0\n",
            "1      2e7a8482f6fb09756ca50c10d7bfc047  ...               1400.0\n",
            "2      e5fa5a7210941f7d56d0208e4e071d35  ...                700.0\n",
            "3      3b697a20d9e427646d92567910af6d57  ...                300.0\n",
            "4      71303d7e93b399f5bcd537d124c0bcfa  ...                500.0\n",
            "...                                 ...  ...                  ...\n",
            "49994  ec88157ad03aa203c3fdfe7bace5ab6b  ...               2425.0\n",
            "49995  ed60085e92e2aa3debf49159deb34da7  ...               2350.0\n",
            "49996  ed98c37d860890f940e2acd83629fdd1  ...               2600.0\n",
            "49997  ed98c37d860890f940e2acd83629fdd1  ...               2600.0\n",
            "49998  ede4ebbb6e36cbd377eabcc7f5229575  ...               1450.0\n",
            "\n",
            "[49999 rows x 12 columns]\n"
          ]
        },
        {
          "output_type": "execute_result",
          "data": {
            "text/plain": [
              "(None,)"
            ]
          },
          "metadata": {},
          "execution_count": 14
        }
      ]
    },
    {
      "cell_type": "markdown",
      "source": [
        "# Menemukan Outliers Menggunakan Pandas"
      ],
      "metadata": {
        "id": "vcFH75HUK-5v"
      }
    },
    {
      "cell_type": "markdown",
      "source": [
        "Menemukan Outliers Menggunakan Pandas\n",
        "Outliers merupakan data observasi yang muncul dengan nilai-nilai ekstrim. Yang dimaksud dengan nilai-nilai ekstrim dalam observasi adalah nilai yang jauh atau beda sama sekali dengan sebagian besar nilai lain dalam kelompoknya. Pada umumnya, outliers dapat ditentukan dengan metric IQR (interquartile range).\n",
        "Rumus dasar dari IQR: Q3 - Q1. Dan data suatu observasi dapat dikatakan outliers jika memenuhi kedua syarat dibawah ini:\n",
        "•\tdata < Q1 - 1.5 * IQR\n",
        "•\tdata > Q3 + 1.5 * IQR\n",
        "\n",
        "Setelah mendapatkan persebaran dari dataset order_df (\"https://storage.googleapis.com/dqlab-dataset/order.csv\") \n",
        "perlu  menemukan batas IQR agar bisa menentukan outliers bagi kolom product_weight_gram\n",
        "\n"
      ],
      "metadata": {
        "id": "-BqgFoTeCz8Q"
      }
    },
    {
      "cell_type": "code",
      "source": [
        "import pandas as pd\n",
        "order_df = pd.read_csv(\"https://storage.googleapis.com/dqlab-dataset/order.csv\")\n",
        "# Hitung quartile 1\n",
        "Q1 = order_df[[\"product_weight_gram\"]].quantile(0.25)\n",
        "# Hitung quartile 3\n",
        "Q3 = order_df[[\"product_weight_gram\"]].quantile(0.75)\n",
        "# Hitung inter quartile range dan cetak ke console\n",
        "IQR = Q3-Q1\n",
        "print(IQR)"
      ],
      "metadata": {
        "colab": {
          "base_uri": "https://localhost:8080/"
        },
        "id": "HUaRxx3AC4KL",
        "outputId": "01829a17-1643-4c9b-95eb-fd59403e9a3f"
      },
      "execution_count": 15,
      "outputs": [
        {
          "output_type": "stream",
          "name": "stdout",
          "text": [
            "product_weight_gram    1550.0\n",
            "dtype: float64\n"
          ]
        }
      ]
    },
    {
      "cell_type": "markdown",
      "source": [
        ".groupby menggunakan Pandas\n",
        "\n",
        "Kegunaan .groupby adalah mencari summary dari data frame dengan menggunakan aggregate dari kolom tertentu.\n"
      ],
      "metadata": {
        "id": "-CjoNCugEXk2"
      }
    },
    {
      "cell_type": "code",
      "source": [
        "#Mencari rata rata dari price per payment_type dari dataset order_df (\"https://storage.googleapis.com/dqlab-dataset/order.csv\")!\n",
        "\n",
        "import pandas as pd\n",
        "order_df = pd.read_csv(\"https://storage.googleapis.com/dqlab-dataset/order.csv\")\n",
        "# Hitung rata rata dari price per payment_type\n",
        "rata_rata = order_df[\"price\"].groupby(order_df[\"payment_type\"]).mean()\n",
        "print(rata_rata)"
      ],
      "metadata": {
        "colab": {
          "base_uri": "https://localhost:8080/"
        },
        "id": "WleCq4rtEnzI",
        "outputId": "9c779cf2-c538-40a4-997c-53bd13b5d05f"
      },
      "execution_count": 16,
      "outputs": [
        {
          "output_type": "stream",
          "name": "stdout",
          "text": [
            "payment_type\n",
            "credit card        2.600706e+06\n",
            "debit card         2.611974e+06\n",
            "e-wallet           2.598562e+06\n",
            "virtual account    2.619786e+06\n",
            "Name: price, dtype: float64\n"
          ]
        }
      ]
    },
    {
      "cell_type": "markdown",
      "source": [
        "Sorting Menggunakan Pandas\n",
        "Sorting adalah sebuah metode mengurutkan data berdasarkan syarat kolom tertentu dan biasanya digunakan untuk melihat nilai maksimum dan minimum dari dataset. Library Pandas sendiri menyediakan fungsi sorting sebagai fundamental dari exploratory data analysis\n"
      ],
      "metadata": {
        "id": "1OetI0c2Eynd"
      }
    },
    {
      "cell_type": "code",
      "source": [
        "#Mencari berapa harga maksimum pembelian customer di dataset order_df.”\n",
        "\n",
        "import pandas as pd\n",
        "order_df = pd.read_csv(\"https://storage.googleapis.com/dqlab-dataset/order.csv\")\n",
        "# Hitung harga maksimum pembelian customer\n",
        "sort_harga = order_df.sort_values(by=\"price\", ascending=False)\n",
        "print(sort_harga)"
      ],
      "metadata": {
        "colab": {
          "base_uri": "https://localhost:8080/"
        },
        "id": "f_dbg8iYE3wd",
        "outputId": "61a1e39c-9b6b-42f4-b048-62a9b9735d0f"
      },
      "execution_count": 17,
      "outputs": [
        {
          "output_type": "stream",
          "name": "stdout",
          "text": [
            "                               order_id  ...  product_weight_gram\n",
            "37085  d7b2d3b902441cf3dd12cd125533217d  ...               1825.0\n",
            "41958  2711089c7fec59d4dc8483e3c6a12fa3  ...                200.0\n",
            "3976   f343624eab419250ad81f1ce6be22c93  ...                950.0\n",
            "21072  c8947a583ab9791a5a9d02384cb84302  ...                550.0\n",
            "47074  f6134169ca6f0cdfbe6458ebb5731613  ...              10600.0\n",
            "...                                 ...  ...                  ...\n",
            "33786  0d9e86e02c1a823b20c03ea29d616607  ...               7550.0\n",
            "42166  54220fcc516cabe9ec84b210c0765ef2  ...               1100.0\n",
            "31745  59a19c83ff825948739dd1601cc107b6  ...                550.0\n",
            "42452  9960ee97c2f8d801a200a01893b3942f  ...               6663.0\n",
            "11939  64619901c45fba79638d666058bf6be6  ...                200.0\n",
            "\n",
            "[49999 rows x 12 columns]\n"
          ]
        }
      ]
    },
    {
      "cell_type": "markdown",
      "source": [
        "# Mini Project"
      ],
      "metadata": {
        "id": "OsINemkCK2RG"
      }
    },
    {
      "cell_type": "markdown",
      "source": [
        "Mini Project\n",
        "Pada bagian ini Kamu akan diberikan suatu studi kasus sederhana yang akan mengukur pemahaman Kamu dari modul \"Exploratory Data Analysis with Python for Beginner\".\n",
        "Tugas : Latihan dalam membuat laporan bisnis sederhana menggunakan Python\n",
        "1. Median price yang dibayar customer dari masing-masing metode pembayaran.\n",
        "Tentukan metode pembayaran yang memiliki basket size (rataan median price) terbesar.\n",
        "2. Ubah freight_value menjadi shipping_cost dan cari shipping_cost termahal dari data penjualan tersebut menggunakan sort.\n",
        "3. Untuk setiap product_category_name, berapa rata-rata weight produk tersebut dan standar deviasi mana yang terkecil dari weight tersebut,\n",
        "4. Buat histogram quantity penjualan dari dataset tersebut untuk melihat persebaran quantity penjualan tersebut dengan bins = 5 dan figsize= (4,5)"
      ],
      "metadata": {
        "id": "XmM9fD1nFXfp"
      }
    },
    {
      "cell_type": "code",
      "source": [
        "import pandas as pd\n",
        "import matplotlib.pyplot as plt\n",
        "order_df = pd.read_csv(\"https://storage.googleapis.com/dqlab-dataset/order.csv\")\n",
        "# Median price yang dibayar customer dari masing-masing metode pembayaran. \n",
        "median_price = order_df[\"price\"].groupby(order_df[\"payment_type\"]).median()\n",
        "print(median_price)\n",
        "# Ubah freight_value menjadi shipping_cost dan cari shipping_cost \n",
        "# termahal dari data penjualan tersebut menggunakan sort.\n",
        "order_df.rename(columns={\"freight_value\": \"shipping_cost\"}, inplace=True)\n",
        "sort_value = order_df.sort_values(by=\"shipping_cost\", ascending=0)\n",
        "print(sort_value)\n",
        "# Untuk product_category_name, berapa  rata-rata weight produk tersebut \n",
        "# dan standar deviasi mana yang terkecil dari weight tersebut, \n",
        "mean_value = order_df[\"product_weight_gram\"].groupby(order_df[\"product_category_name\"]).mean()\n",
        "print(mean_value.sort_values())\n",
        "std_value = order_df[\"product_weight_gram\"].groupby(order_df[\"product_category_name\"]).std()\n",
        "print(std_value.sort_values())\n",
        "# Buat histogram quantity penjualan dari dataset tersebut untuk melihat persebaran quantity \n",
        "# penjualan tersebut dengan bins = 5 dan figsize= (4,5)\n",
        "order_df[[\"quantity\"]].hist(figsize=(4, 5), bins=5)\n",
        "plt.show()"
      ],
      "metadata": {
        "colab": {
          "base_uri": "https://localhost:8080/",
          "height": 1000
        },
        "id": "fKATffnOFkH_",
        "outputId": "8411c753-f55f-4b4f-b0d8-3aecbc86e30e"
      },
      "execution_count": 18,
      "outputs": [
        {
          "output_type": "stream",
          "name": "stdout",
          "text": [
            "payment_type\n",
            "credit card        2587500.0\n",
            "debit card         2621500.0\n",
            "e-wallet           2589000.0\n",
            "virtual account    2643000.0\n",
            "Name: price, dtype: float64\n",
            "                               order_id  ...  product_weight_gram\n",
            "23829  7d63cb1d349e7bd0ee1edcc61ea71077  ...                400.0\n",
            "12011  00c9f7d4b0e87781465e562dc109f6aa  ...                900.0\n",
            "10984  69013d19f8db4cd7dc9f3b5c2564a96f  ...                250.0\n",
            "29722  f32c4d2b078bc5a354f4c1184522b5ff  ...                450.0\n",
            "15259  c8eab0ccabe8cdfc2afce66c1c554ae2  ...                100.0\n",
            "...                                 ...  ...                  ...\n",
            "2891   1d0e8770169496e47622b6cbc0d10bda  ...                900.0\n",
            "36815  4bff82a994068f564e54b52b08ef4512  ...                150.0\n",
            "8175   e6b1fa22555c3064f984ebeb8a88de77  ...                250.0\n",
            "4034   8ac2728285fd4228f35d907768b5288a  ...               1700.0\n",
            "32994  0286e258217733541e80588e29c208c1  ...                700.0\n",
            "\n",
            "[49999 rows x 12 columns]\n",
            "product_category_name\n",
            "beauty         2120.088396\n",
            "automotive     2129.559039\n",
            "electronics    2144.751191\n",
            "toys           2203.863643\n",
            "gadget         2229.632942\n",
            "fashion        2246.516901\n",
            "sports         2251.879909\n",
            "utilities      2291.029868\n",
            "Name: product_weight_gram, dtype: float64\n",
            "product_category_name\n",
            "automotive     3799.884166\n",
            "beauty         3837.474929\n",
            "electronics    3839.271768\n",
            "fashion        3858.885213\n",
            "gadget         3955.792741\n",
            "toys           3956.814749\n",
            "sports         4032.850044\n",
            "utilities      4150.509909\n",
            "Name: product_weight_gram, dtype: float64\n"
          ]
        },
        {
          "output_type": "display_data",
          "data": {
            "image/png": "[encoded data removed]",
            "text/plain": [
              "<Figure size 288x360 with 1 Axes>"
            ]
          },
          "metadata": {
            "needs_background": "light"
          }
        }
      ]
    },
    {
      "cell_type": "markdown",
      "source": [
        "Untuk tampilan yang lebih baik (leboh detail), maka figsize-nya diperbesar menjadi (5,6) (rekomendasi dari aku):\n",
        "\n",
        "order_df[[\"quantity\"]].hist(figsize=(5, 6), bins=5)"
      ],
      "metadata": {
        "id": "IxxE8qo3FxZZ"
      }
    },
    {
      "cell_type": "code",
      "source": [
        "import pandas as pd\n",
        "import matplotlib.pyplot as plt\n",
        "order_df = pd.read_csv(\"https://storage.googleapis.com/dqlab-dataset/order.csv\")\n",
        "# Median price yang dibayar customer dari masing-masing metode pembayaran. \n",
        "median_price = order_df[\"price\"].groupby(order_df[\"payment_type\"]).median()\n",
        "print(median_price)\n",
        "# Ubah freight_value menjadi shipping_cost dan cari shipping_cost \n",
        "# termahal dari data penjualan tersebut menggunakan sort.\n",
        "order_df.rename(columns={\"freight_value\": \"shipping_cost\"}, inplace=True)\n",
        "sort_value = order_df.sort_values(by=\"shipping_cost\", ascending=0)\n",
        "print(sort_value)\n",
        "# Untuk product_category_name, berapa  rata-rata weight produk tersebut \n",
        "# dan standar deviasi mana yang terkecil dari weight tersebut, \n",
        "mean_value = order_df[\"product_weight_gram\"].groupby(order_df[\"product_category_name\"]).mean()\n",
        "print(mean_value.sort_values())\n",
        "std_value = order_df[\"product_weight_gram\"].groupby(order_df[\"product_category_name\"]).std()\n",
        "print(std_value.sort_values())\n",
        "# Buat histogram quantity penjualan dari dataset tersebutuntuk melihat persebaran quantity \n",
        "# penjualan tersebut dengan bins = 5 dan figsize= (4,5)\n",
        "order_df[[\"quantity\"]].hist(figsize=(5, 6), bins=5)\n",
        "plt.show()\n"
      ],
      "metadata": {
        "colab": {
          "base_uri": "https://localhost:8080/",
          "height": 1000
        },
        "id": "oab4vSXKFzUl",
        "outputId": "d8d7ff9b-4bfe-450d-ed11-15c38cba2356"
      },
      "execution_count": 19,
      "outputs": [
        {
          "output_type": "stream",
          "name": "stdout",
          "text": [
            "payment_type\n",
            "credit card        2587500.0\n",
            "debit card         2621500.0\n",
            "e-wallet           2589000.0\n",
            "virtual account    2643000.0\n",
            "Name: price, dtype: float64\n",
            "                               order_id  ...  product_weight_gram\n",
            "23829  7d63cb1d349e7bd0ee1edcc61ea71077  ...                400.0\n",
            "12011  00c9f7d4b0e87781465e562dc109f6aa  ...                900.0\n",
            "10984  69013d19f8db4cd7dc9f3b5c2564a96f  ...                250.0\n",
            "29722  f32c4d2b078bc5a354f4c1184522b5ff  ...                450.0\n",
            "15259  c8eab0ccabe8cdfc2afce66c1c554ae2  ...                100.0\n",
            "...                                 ...  ...                  ...\n",
            "2891   1d0e8770169496e47622b6cbc0d10bda  ...                900.0\n",
            "36815  4bff82a994068f564e54b52b08ef4512  ...                150.0\n",
            "8175   e6b1fa22555c3064f984ebeb8a88de77  ...                250.0\n",
            "4034   8ac2728285fd4228f35d907768b5288a  ...               1700.0\n",
            "32994  0286e258217733541e80588e29c208c1  ...                700.0\n",
            "\n",
            "[49999 rows x 12 columns]\n",
            "product_category_name\n",
            "beauty         2120.088396\n",
            "automotive     2129.559039\n",
            "electronics    2144.751191\n",
            "toys           2203.863643\n",
            "gadget         2229.632942\n",
            "fashion        2246.516901\n",
            "sports         2251.879909\n",
            "utilities      2291.029868\n",
            "Name: product_weight_gram, dtype: float64\n",
            "product_category_name\n",
            "automotive     3799.884166\n",
            "beauty         3837.474929\n",
            "electronics    3839.271768\n",
            "fashion        3858.885213\n",
            "gadget         3955.792741\n",
            "toys           3956.814749\n",
            "sports         4032.850044\n",
            "utilities      4150.509909\n",
            "Name: product_weight_gram, dtype: float64\n"
          ]
        },
        {
          "output_type": "display_data",
          "data": {
            "image/png": "[encoded data removed]",
            "text/plain": [
              "<Figure size 360x432 with 1 Axes>"
            ]
          },
          "metadata": {
            "needs_background": "light"
          }
        }
      ]
    }
  ]
}