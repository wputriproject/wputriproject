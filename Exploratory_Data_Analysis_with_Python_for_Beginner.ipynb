{
  "nbformat": 4,
  "nbformat_minor": 0,
  "metadata": {
    "colab": {
      "name": "Exploratory Data Analysis with Python for Beginner.ipynb",
      "provenance": [],
      "authorship_tag": "ABX9TyOzie/bfe2ZIgFqXvz4u9ls",
      "include_colab_link": true
    },
    "kernelspec": {
      "name": "python3",
      "display_name": "Python 3"
    },
    "language_info": {
      "name": "python"
    }
  },
  "cells": [
    {
      "cell_type": "markdown",
      "metadata": {
        "id": "view-in-github",
        "colab_type": "text"
      },
      "source": [
        "<a href=\"https://colab.research.google.com/github/wputriproject/wputriproject/blob/main/Exploratory_Data_Analysis_with_Python_for_Beginner.ipynb\" target=\"_parent\"><img src=\"https://colab.research.google.com/assets/colab-badge.svg\" alt=\"Open In Colab\"/></a>"
      ]
    },
    {
      "cell_type": "code",
      "execution_count": 1,
      "metadata": {
        "colab": {
          "base_uri": "https://localhost:8080/"
        },
        "id": "H12S1_OpeAos",
        "outputId": "1d27a927-ac21-475d-db57-1fb15f788928"
      },
      "outputs": [
        {
          "output_type": "stream",
          "name": "stdout",
          "text": [
            "                               order_id  ...  product_weight_gram\n",
            "0      2e7a8482f6fb09756ca50c10d7bfc047  ...               1800.0\n",
            "1      2e7a8482f6fb09756ca50c10d7bfc047  ...               1400.0\n",
            "2      e5fa5a7210941f7d56d0208e4e071d35  ...                700.0\n",
            "3      3b697a20d9e427646d92567910af6d57  ...                300.0\n",
            "4      71303d7e93b399f5bcd537d124c0bcfa  ...                500.0\n",
            "...                                 ...  ...                  ...\n",
            "49994  ec88157ad03aa203c3fdfe7bace5ab6b  ...               2425.0\n",
            "49995  ed60085e92e2aa3debf49159deb34da7  ...               2350.0\n",
            "49996  ed98c37d860890f940e2acd83629fdd1  ...               2600.0\n",
            "49997  ed98c37d860890f940e2acd83629fdd1  ...               2600.0\n",
            "49998  ede4ebbb6e36cbd377eabcc7f5229575  ...               1450.0\n",
            "\n",
            "[49999 rows x 12 columns]\n"
          ]
        }
      ],
      "source": [
        "#mengimport dataset marketplace ABC dari order.csv dan disimpan ke dalam dataframe bernama order_df\n",
        "import pandas as pd\n",
        "order_df = pd.read_csv(\"https://storage.googleapis.com/dqlab-dataset/order.csv\")\n",
        "print(order_df)\n"
      ]
    },
    {
      "cell_type": "code",
      "source": [
        "#order dataframe dengan menuliskan syntax Python untuk melihat struktur dari order_df dengan menggunakan fungsi shape\n",
        "import pandas as pd\n",
        "order_df = pd.read_csv(\"https://storage.googleapis.com/dqlab-dataset/order.csv\")\n",
        "print(order_df.shape)\n"
      ],
      "metadata": {
        "colab": {
          "base_uri": "https://localhost:8080/"
        },
        "id": "qpfzPodPeyzb",
        "outputId": "e5a7843a-1031-4750-b7fd-d3226a3daf91"
      },
      "execution_count": 2,
      "outputs": [
        {
          "output_type": "stream",
          "name": "stdout",
          "text": [
            "(49999, 12)\n"
          ]
        }
      ]
    },
    {
      "cell_type": "code",
      "source": [
        "#check bagaimana contoh data dari dataframe tersebut dengan fungsi head dengan limit 10 baris\n",
        "import pandas as pd\n",
        "order_df = pd.read_csv(\"https://storage.googleapis.com/dqlab-dataset/order.csv\")\n",
        "print(order_df.head(10))"
      ],
      "metadata": {
        "colab": {
          "base_uri": "https://localhost:8080/"
        },
        "id": "3XmYKhzvhSzI",
        "outputId": "13b24d9c-6a04-4c91-b038-68ed490bcfb1"
      },
      "execution_count": 3,
      "outputs": [
        {
          "output_type": "stream",
          "name": "stdout",
          "text": [
            "                           order_id  ...  product_weight_gram\n",
            "0  2e7a8482f6fb09756ca50c10d7bfc047  ...               1800.0\n",
            "1  2e7a8482f6fb09756ca50c10d7bfc047  ...               1400.0\n",
            "2  e5fa5a7210941f7d56d0208e4e071d35  ...                700.0\n",
            "3  3b697a20d9e427646d92567910af6d57  ...                300.0\n",
            "4  71303d7e93b399f5bcd537d124c0bcfa  ...                500.0\n",
            "5  be5bc2f0da14d8071e2d45451ad119d9  ...                400.0\n",
            "6  0a0837a5eee9e7a9ce2b1fa831944d27  ...               3100.0\n",
            "7  1ff217aa612f6cd7c4255c9bfe931c8b  ...                200.0\n",
            "8  22613579f7d11cc59c4347526fc3c79e  ...                600.0\n",
            "9  356b492aba2d1a7da886e54e0b6212b7  ...                610.0\n",
            "\n",
            "[10 rows x 12 columns]\n"
          ]
        }
      ]
    }
  ]
}